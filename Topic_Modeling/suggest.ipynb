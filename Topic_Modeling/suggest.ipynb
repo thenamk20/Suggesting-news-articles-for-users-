{
 "cells": [
  {
   "cell_type": "code",
   "execution_count": 1,
   "metadata": {},
   "outputs": [],
   "source": [
    "import pickle\n",
    "from text_process import text_preprocess\n",
    "from utils import *\n",
    "import json\n",
    "import numpy as np\n",
    "import os"
   ]
  },
  {
   "cell_type": "code",
   "execution_count": null,
   "metadata": {},
   "outputs": [],
   "source": [
    "lda_model = pickle.load(open('./ldamodel.pkl', 'rb'))\n",
    "lda_model.print_topics(num_topics=40, num_words=50)"
   ]
  },
  {
   "cell_type": "code",
   "execution_count": 3,
   "metadata": {},
   "outputs": [],
   "source": [
    "posts = []\n",
    "path = \"../python crawl/24hData\"\n",
    "for filename in os.listdir(path):\n",
    "   with open(os.path.join(path, filename), 'r', encoding='utf-8') as f:\n",
    "            # text = f.read()\n",
    "            text = text_preprocess(f.read())\n",
    "            posts.append(text)"
   ]
  },
  {
   "cell_type": "code",
   "execution_count": null,
   "metadata": {},
   "outputs": [],
   "source": [
    "dict = pickle.load(open('./dict.pkl', 'rb'))\n",
    "doc_term_matrix_suggest = [dict.doc2bow(i) for i in posts]\n",
    "count = 0\n",
    "\n",
    "post_favor = []\n",
    "\n",
    "for i in lda_model[doc_term_matrix_suggest]:\n",
    "    tmp= [0] * 40\n",
    "    for j in i[0]:\n",
    "        tmp[j[0]] = j[1]\n",
    "    count += 1\n",
    "    post_favor.append(tmp)\n",
    "post_favor[0]"
   ]
  },
  {
   "cell_type": "code",
   "execution_count": 5,
   "metadata": {},
   "outputs": [
    {
     "data": {
      "text/plain": [
       "array([0.02205882, 0.00735294, 0.03676471, 0.04411765, 0.73529412,\n",
       "       0.01470588, 0.        , 0.00735294, 0.06617647, 0.04411765,\n",
       "       0.02205882, 0.        , 0.        , 0.        , 0.        ,\n",
       "       0.        , 0.        , 0.        , 0.        , 0.        ,\n",
       "       0.        , 0.        , 0.        , 0.        , 0.        ,\n",
       "       0.        , 0.        , 0.        , 0.        , 0.        ,\n",
       "       0.        , 0.        , 0.        , 0.        , 0.        ,\n",
       "       0.        , 0.        , 0.        , 0.        , 0.        ])"
      ]
     },
     "execution_count": 5,
     "metadata": {},
     "output_type": "execute_result"
    }
   ],
   "source": [
    "user_views_count = []\n",
    "userJson = open('./user.json',\"r\")\n",
    "user = json.loads(userJson.read())\n",
    "for key, value in user['topic-list'].items():\n",
    "    user_views_count.append(value)\n",
    "\n",
    "user_views = convertIntArrayToPercentArray(user_views_count)\n",
    "    \n",
    "user_favor_mtrx = np.array(user_views)\n",
    "user_favor_mtrx"
   ]
  },
  {
   "cell_type": "code",
   "execution_count": 6,
   "metadata": {},
   "outputs": [
    {
     "data": {
      "text/plain": [
       "array([[0.        , 0.        , 0.        , ..., 0.03999692, 0.0158196 ,\n",
       "        0.        ],\n",
       "       [0.06199771, 0.05953563, 0.217658  , ..., 0.07101107, 0.14450641,\n",
       "        0.10253727],\n",
       "       [0.        , 0.        , 0.        , ..., 0.        , 0.        ,\n",
       "        0.        ],\n",
       "       ...,\n",
       "       [0.04499938, 0.01430953, 0.03139284, ..., 0.        , 0.        ,\n",
       "        0.02885423],\n",
       "       [0.        , 0.        , 0.05287263, ..., 0.01997563, 0.        ,\n",
       "        0.0121302 ],\n",
       "       [0.        , 0.        , 0.        , ..., 0.        , 0.0155495 ,\n",
       "        0.01228412]])"
      ]
     },
     "execution_count": 6,
     "metadata": {},
     "output_type": "execute_result"
    }
   ],
   "source": [
    "favor_post_mtrx = np.array(post_favor).T\n",
    "favor_post_mtrx"
   ]
  },
  {
   "cell_type": "code",
   "execution_count": 7,
   "metadata": {},
   "outputs": [
    {
     "data": {
      "text/plain": [
       "array([0.00370466, 0.00341118, 0.0216148 , 0.01918012, 0.00507786,\n",
       "       0.00503469, 0.01576748, 0.03011354, 0.01047488, 0.07369013,\n",
       "       0.03011393, 0.01144662, 0.09348505, 0.06379954, 0.01854267,\n",
       "       0.0429962 , 0.00872675, 0.00839445, 0.00701446, 0.03728119,\n",
       "       0.0323411 , 0.03492242, 0.02666837, 0.04832786, 0.03306968,\n",
       "       0.04801528, 0.06626914, 0.02846102, 0.02943103, 0.02376272,\n",
       "       0.02676734, 0.01538457, 0.03629785, 0.00832638, 0.00904567,\n",
       "       0.01437611, 0.00756862, 0.02395275, 0.0205283 , 0.03178952,\n",
       "       0.05686593, 0.07521546, 0.00682582, 0.03296786, 0.00692425,\n",
       "       0.0075996 , 0.00629474, 0.00597832, 0.00417531, 0.03633456,\n",
       "       0.00764895, 0.01126969, 0.03943454, 0.00565526, 0.00779056,\n",
       "       0.00740954])"
      ]
     },
     "execution_count": 7,
     "metadata": {},
     "output_type": "execute_result"
    }
   ],
   "source": [
    "user_post_matrx = np.matmul(user_favor_mtrx, favor_post_mtrx)\n",
    "user_post_matrx"
   ]
  },
  {
   "cell_type": "code",
   "execution_count": 8,
   "metadata": {},
   "outputs": [
    {
     "data": {
      "text/plain": [
       "[12,\n",
       " 41,\n",
       " 9,\n",
       " 26,\n",
       " 13,\n",
       " 40,\n",
       " 23,\n",
       " 25,\n",
       " 15,\n",
       " 52,\n",
       " 19,\n",
       " 49,\n",
       " 32,\n",
       " 21,\n",
       " 24,\n",
       " 43,\n",
       " 20,\n",
       " 39,\n",
       " 10,\n",
       " 7,\n",
       " 28,\n",
       " 27,\n",
       " 30,\n",
       " 22,\n",
       " 37,\n",
       " 29,\n",
       " 2,\n",
       " 38,\n",
       " 3,\n",
       " 14,\n",
       " 6,\n",
       " 31,\n",
       " 35,\n",
       " 11,\n",
       " 51,\n",
       " 8,\n",
       " 34,\n",
       " 16,\n",
       " 17,\n",
       " 33,\n",
       " 54,\n",
       " 50,\n",
       " 45,\n",
       " 36,\n",
       " 55,\n",
       " 18,\n",
       " 44,\n",
       " 42,\n",
       " 46,\n",
       " 47,\n",
       " 53,\n",
       " 4,\n",
       " 5,\n",
       " 48,\n",
       " 0,\n",
       " 1]"
      ]
     },
     "execution_count": 8,
     "metadata": {},
     "output_type": "execute_result"
    }
   ],
   "source": [
    "user_post_dict = ConvertListToDict(user_post_matrx)\n",
    "user_post_dict_sorted = sorted(user_post_dict, key=user_post_dict.get, reverse= True)\n",
    "user_post_dict_sorted"
   ]
  },
  {
   "cell_type": "code",
   "execution_count": 18,
   "metadata": {},
   "outputs": [
    {
     "name": "stdout",
     "output_type": "stream",
     "text": [
      "link in line  13: https://www.24h.com.vn/du-lich-24h/kham-pha-phuong-hoang-co-tran-xinh-dep-tru-danh-trung-hoa-c76a1345437.html\n",
      "\n",
      "link in line  42: https://www.24h.com.vn/media-24h/4-bi-quyet-song-de-tranh-ung-thu-cai-thien-tuoi-tho-c762a1375193.html\n",
      "\n",
      "link in line  10: https://www.24h.com.vn/du-lich-24h/cay-cau-uon-luon-nhu-song-nuoc-giua-nui-rung-cu-ngo-la-san-pham-cua-photoshop-c76a1368498.html\n",
      "\n",
      "link in line  27: https://www.24h.com.vn/bong-da/sep-lon-barcelona-dau-hang-thuong-vu-lewandowski-chelsea-mung-tham-c48a1374134.html\n",
      "\n",
      "link in line  14: https://www.24h.com.vn/giao-duc-du-hoc/khi-bi-cha-me-mang-tre-im-lang-hay-noi-lai-cho-thay-chung-co-nhung-tinh-cach-nay-khi-lon-len-c216a1372651.html\n",
      "\n",
      "link in line  41: https://www.24h.com.vn/tin-tuc-trong-ngay/hinh-hai-duong-vanh-dai-2-truoc-khi-hop-long-nhip-cuoi-o-ha-noi-c46a1371804.html\n",
      "\n",
      "link in line  24: https://www.24h.com.vn/bong-da/nguoi-dac-biet-ligue-1-gia-nhap-psg-tuyen-bo-dan-mat-messi-mbappe-neymar-c48a1375086.html\n",
      "\n",
      "link in line  26: https://www.24h.com.vn/bong-da/tin-moi-nhat-bong-da-trua-4-7-wolverhampton-co-nguy-co-bi-ban-c48a1374476.html\n",
      "\n",
      "link in line  16: https://www.24h.com.vn/media-24h/23-con-cho-hoang-hanh-ha-ke-cap-xau-xa-c762a1373576.html\n",
      "\n",
      "link in line  53: https://www.24h.com.vn/giai-tri/bach-cot-tinh-noi-1-cau-danh-thep-khien-dao-dien-tay-du-ky-day-dut-suot-doi-c731a1373694.html\n",
      "\n",
      "link in line  20: https://www.24h.com.vn/bong-da/thu-mon-u19-viet-nam-nhan-the-do-bat-ngo-tranh-cai-co-bat-bong-ngoai-vong-cam-c48a1375349.html\n",
      "\n",
      "link in line  50: https://www.24h.com.vn/giai-tri/hot-tiktoker-2k1-dong-phim-tao-bao-vi-dam-me-c731a1374208.html\n",
      "\n",
      "link in line  33: https://www.24h.com.vn/dien-tu-gia-dung/bep-tu-sakura-voi-cong-nghe-heattech-chinh-phuc-moi-cong-thuc-nau-mon-nao-cung-ngon-c786a1368548.html\n",
      "\n",
      "link in line  22: https://www.24h.com.vn/bong-da/tin-moi-nhat-ronaldo-muon-bo-mu-xin-nghi-tap-quy-do-phan-ung-ra-sao-c48a1374529.html\n",
      "\n",
      "link in line  25: https://www.24h.com.vn/bong-da/chu-nha-world-cup-2022-bat-ngo-cam-chuyen-ay-nguy-co-ngoi-tu-7-nam-c48a1370165.html\n",
      "\n",
      "link in line  44: https://www.24h.com.vn/o-to/gia-xe-honda-city-niem-yet-va-lan-banh-thang-7-2022-c747a1375028.html\n",
      "\n",
      "link in line  21: https://www.24h.com.vn/bong-da/ket-qua-bong-da-u19-indonesia-u19-thai-lan-chu-nha-lan-luot-lien-tuc-bo-lo-h1-c48a1375367.html\n",
      "\n",
      "link in line  40: https://www.24h.com.vn/tin-tuc-trong-ngay/chu-tich-nuoc-truy-tang-huan-chuong-dung-cam-cho-thuong-ta-bui-van-nhien-c46a1373290.html\n",
      "\n",
      "link in line  11: https://www.24h.com.vn/du-lich-24h/choang-vang-voi-con-duong-quanh-co-nhat-hanh-tinh-khong-danh-cho-tai-xe-non-tay-c76a1367719.html\n",
      "\n",
      "link in line  8: https://www.24h.com.vn/doi-song-showbiz/may-cua-xuan-bac-u50-nong-bong-bi-khan-gia-ghet-cay-ghet-dang-moi-khi-len-hinh-c729a1374440.html\n",
      "\n",
      "link in line  29: https://www.24h.com.vn/thoi-trang-hi-tech/huawei-band-7-vong-deo-tay-pin-14-ngay-voi-loat-tinh-nang-theo-doi-suc-khoe-c407a1375039.html\n",
      "\n",
      "link in line  28: https://www.24h.com.vn/thoi-trang-hi-tech/chi-tiet-nao-khien-iphone-14-series-dat-xat-ra-mieng-c407a1375118.html\n",
      "\n",
      "link in line  31: https://www.24h.com.vn/thoi-trang-hi-tech/-2022-se-ap-dung-cong-nghe-bat-viet-vi-moi-c407a1374274.html\n",
      "\n",
      "link in line  23: https://www.24h.com.vn/bong-da/sao-bong-da-gung-cang-gia-cang-cay-messi-dat-gia-nhat-ronaldo-bi-bo-xa-c48a1374305.html\n",
      "\n",
      "link in line  38: https://www.24h.com.vn/tin-tuc-trong-ngay/can-canh-nhung-cong-vien-dang-treo-o-thu-do-c46a1374264.html\n",
      "\n",
      "link in line  30: https://www.24h.com.vn/thoi-trang-hi-tech/danh-gia-tv-lg-oled-2022-series-da-cong-nghe-da-thiet-ke-c407a1373119.html\n",
      "\n",
      "link in line  3: https://www.24h.com.vn/tin-tuc-quoc-te/ukraine-tuyen-bo-hanh-dong-tai-kiem-soat-dao-ran-dau-tien-c415a1374704.html\n",
      "\n",
      "link in line  39: https://www.24h.com.vn/tin-tuc-trong-ngay/bat-an-voi-nhung-qua-bom-no-cham-giua-trung-tam-tphcm-c46a1373478.html\n",
      "\n",
      "link in line  4: https://www.24h.com.vn/gia-vang-hom-nay/gia-vang-hom-nay-26-6-nha-dau-tu-ngo-lo-vang-giam-sau-xuong-day-5-tuan-c425a1372124.html\n",
      "\n",
      "link in line  15: https://www.24h.com.vn/media-24h/to-hop-ten-lua-co-kha-nang-gieo-ac-mong-cho-may-bay-va-ten-lua-dan-dao-c762a1373392.html\n",
      "\n",
      "link in line  7: https://www.24h.com.vn/suc-khoe-doi-song/nhung-dieu-dai-ky-can-biet-khi-an-thit-de-de-tranh-ngo-doc-day-bung-kho-tieu-c62a1330140.html\n",
      "\n",
      "link in line  32: https://www.24h.com.vn/thoi-trang-hi-tech/video-so-sanh-chi-tiet-macbook-pro-13-inch-m2-va-m1-c407a1373196.html\n",
      "\n",
      "link in line  36: https://www.24h.com.vn/the-gioi-cong-nghe/khai-truong-tao-zin-uu-dai-lon-tang-full-bo-phu-kien-va-sac-du-phong-c674a1365999.html\n",
      "\n",
      "link in line  12: https://www.24h.com.vn/du-lich-24h/thot-tim-truoc-ngoi-chua-co-cheo-leo-giua-hai-vach-da-tung-xuat-hien-trong-bo-phim-ngoa-ho-tang-long-c76a1356059.html\n",
      "\n",
      "link in line  52: https://www.24h.com.vn/giai-tri/lam-ngo-thanh-van-bi-thuong-9x-tao-bao-nhat-hollywood-thu-nhan-dieu-nay-c731a1373927.html\n",
      "\n",
      "link in line  9: https://www.24h.com.vn/doi-song-showbiz/hau-ly-hon-ngoc-quyen-xay-nha-tien-ty-tai-my-nho-lam-dieu-nay-c729a1374500.html\n",
      "\n",
      "link in line  35: https://www.24h.com.vn/the-gioi-cong-nghe/big-sale-khung-nhat-nam-topzone-ban-iphone-13-chi-nua-gia-loat-san-pham-apple-giam-manh-den-20-c674a1368891.html\n",
      "\n",
      "link in line  17: https://www.24h.com.vn/media-24h/linh-cau-to-gan-dai-chien-voi-vua-dong-co-c762a1367480.html\n",
      "\n",
      "link in line  18: https://www.24h.com.vn/media-24h/ha-guc-ran-duoi-chuong-ran-vua-nuot-chung-ke-dich-to-gap-doi-c762a1372805.html\n",
      "\n",
      "link in line  34: https://www.24h.com.vn/the-gioi-cong-nghe/tin-hieu-cua-nguoi-dung-khi-co-thong-tin-vertu-sap-duoc-phan-phoi-chinh-thuc-tai-viet-nam-c674a1368862.html\n",
      "\n",
      "link in line  55: https://www.24h.com.vn/du-lich-24h/chuoi-trai-nghiem-bat-tan-tai-khu-do-thi-du-lich-quoc-te-regal-legend-c76a1375127.html\n",
      "\n",
      "link in line  51: https://www.24h.com.vn/giai-tri/sieu-vong-1-tro-thanh-me-ke-phim-hot-vtv-gay-chu-y-voi-loat-anh-moi-c731a1374299.html\n",
      "\n",
      "link in line  46: https://www.24h.com.vn/the-thao/don-bo-huc-cuc-hiem-giup-vo-si-my-xu-dep-doi-thu-c101a1374281.html\n",
      "\n",
      "link in line  37: https://www.24h.com.vn/tin-tuc-trong-ngay/chot-thoi-diem-thu-phi-rac-thai-sinh-hoat-theo-kg-c46a1200088.html\n",
      "\n",
      "link in line  56: https://www.24h.com.vn/giao-duc-du-hoc/thu-tai-doan-xem-day-la-mui-cua-loai-dong-vat-nao-c216a1360627.html\n",
      "\n",
      "link in line  19: https://www.24h.com.vn/media-24h/23-con-cho-hoang-hanh-ha-ke-cap-xau-xa-c762a1373576.html/tong-hop-video.html\n",
      "\n",
      "link in line  45: https://www.24h.com.vn/the-thao/nong-nhat-the-thao-sang-4-7-federer-tai-xuat-wimbledon-gay-bao-c101a1374386.html\n",
      "\n",
      "link in line  43: https://www.24h.com.vn/lam-dep/be-gai-xinh-nhat-the-gioi-dep-non-na-tuoi-doi-muoi-nhung-van-gay-tranh-cai-c145a1375277.html\n",
      "\n",
      "link in line  47: https://www.24h.com.vn/the-thao/video-tennis-alcaraz-otte-chien-thang-chong-vanh-den-gan-djokovic-wimbledon-c101a1374020.html\n",
      "\n",
      "link in line  48: https://www.24h.com.vn/giai-tri/duong-chat-cua-chiec-la-cuon-bay-don-tim-fan-trong-du-an-phim-viet-thai-c731a1374967.html\n",
      "\n",
      "link in line  54: https://www.24h.com.vn/am-thuc/hom-nay-an-gi-hon-100-nghin-duoc-bua-chieu-ngon-co-mon-gion-san-sat-an-vui-mieng-c460a1360702.html\n",
      "\n",
      "link in line  5: https://www.24h.com.vn/suc-khoe-doi-song/nhung-bien-chung-nguy-hiem-do-ung-thu-co-tu-cung-c62a1374569.html\n",
      "\n",
      "link in line  6: https://www.24h.com.vn/suc-khoe-doi-song/nu-dien-vien-phim-our-blues-mac-hoi-chung-down-trieu-chung-cua-can-benh-nay-la-gi-c62a1369069.html\n",
      "\n",
      "link in line  49: https://www.24h.com.vn/giai-tri/bi-can-long-ep-nhay-ho-tu-tu-luu-gu-chi-dap-lai-vai-cau-khien-hoang-de-ne-phuc-c731a1374011.html\n",
      "\n",
      "link in line  1: https://www.24h.com.vn/doanh-nghiep/tan-hoang-minh-ngung-hoat-dong-tat-ca-chi-nhanh-tu-1-7-c849a1373437.html\n",
      "\n",
      "link in line  2: https://www.24h.com.vn/kinh-doanh/bao-gio-nha-dau-tu-trai-phieu-tan-hoang-minh-moi-nhan-lai-duoc-tien-c161a1352330.html\n",
      "\n"
     ]
    }
   ],
   "source": [
    "urlsFile = open('../python crawl/24hUrls.txt','r',encoding='utf-8')\n",
    "urls = urlsFile.readlines()\n",
    "for i in user_post_dict_sorted:\n",
    "    print(\"link in line \"+ \" \" + str(i+1) + \": \" + urls[i])\n"
   ]
  }
 ],
 "metadata": {
  "kernelspec": {
   "display_name": "Python 3.10.4 64-bit",
   "language": "python",
   "name": "python3"
  },
  "language_info": {
   "codemirror_mode": {
    "name": "ipython",
    "version": 3
   },
   "file_extension": ".py",
   "mimetype": "text/x-python",
   "name": "python",
   "nbconvert_exporter": "python",
   "pygments_lexer": "ipython3",
   "version": "3.10.4"
  },
  "orig_nbformat": 4,
  "vscode": {
   "interpreter": {
    "hash": "31671a60cee805c34c73116577b485118ff3a75c458d3004d49632c19702ac60"
   }
  }
 },
 "nbformat": 4,
 "nbformat_minor": 2
}
